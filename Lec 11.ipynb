{
 "cells": [
  {
   "cell_type": "code",
   "execution_count": 1,
   "id": "5b1c25e1",
   "metadata": {},
   "outputs": [
    {
     "name": "stdout",
     "output_type": "stream",
     "text": [
      "Recognizing the nation's history of racism and violence perpetrated against Black communities and communities of color, town halls for the JMU community are scheduled on June 3, 4 and 11 to better understand and address racial injustice and inequities.\n",
      "\n",
      "“We know this grief and pain extends throughout our community, and want you to know that on behalf of the institution and as an individual, I stand with you,” said JMU President Jonathan R. Alger. “We will do everything we can to help create a better tomorrow – one in which no individual has to live in fear that they may someday become a target of hate.” \n",
      "\n",
      "The town halls will allow for students, faculty and staff to share personal experiences and suggestions for ways in which colleagues and decision-makers can make Madison a more welcoming and inclusive place for under-represented students, faculty, and staff — now and in the future. Details are as follows. \n",
      "\n",
      "JMU and Community Town Hall\n",
      "6/3 @ 7 p.m.\n",
      "Hosted by: The James Madison Center for Civic Engagement\n",
      "https://bit.ly/JMUEndRacism \n",
      "\n",
      "\n",
      "Faculty and Staff Town Hall\n",
      "6/4 @ 4 p.m.\n",
      "Hosted by: Heather Coltman, Provost and Tim Miller, Vice President for Student Affairs\n",
      "https://bit.ly/JMU-FacultyStaff-Town-Hall\n",
      "\n",
      "\n",
      "Student Town Hall\n",
      "6/11 @ 4 p.m.\n",
      "Hosted by: Heather Coltman, Provost and Tim Miller, Vice President for Student Affairs\n",
      "https://bit.ly/JMU-Student-Town-Hall  \n",
      "\n",
      "# # #\n",
      "\n",
      "Back to Top\n",
      "\n",
      "Published: Tuesday, June 2, 2020\n",
      "\n",
      "Last Updated: Tuesday, June 2, 2020\n"
     ]
    }
   ],
   "source": [
    "with open('jmu_news.txt','r')as jmu_news:\n",
    "    \n",
    "    news_content = jmu_news.read()\n",
    "    \n",
    "    print(news_content)"
   ]
  },
  {
   "cell_type": "code",
   "execution_count": 3,
   "id": "258e0e1d",
   "metadata": {},
   "outputs": [
    {
     "name": "stdout",
     "output_type": "stream",
     "text": [
      "[('a', 2)]\n"
     ]
    }
   ],
   "source": [
    "from collections import Counter\n",
    "\n",
    "count_result = Counter( ['a','a','b'])\n",
    "\n",
    "print(count_result.most_common(1))"
   ]
  },
  {
   "cell_type": "code",
   "execution_count": 10,
   "id": "ac89b48c",
   "metadata": {},
   "outputs": [
    {
     "name": "stdout",
     "output_type": "stream",
     "text": [
      "and 18\n",
      "for 7\n",
      "to 6\n",
      "the 4\n",
      "of 4\n",
      "in 4\n",
      "JMU 3\n",
      "June 3\n",
      "4 3\n",
      "President 3\n"
     ]
    }
   ],
   "source": [
    "with open('jmu_news.txt','r')as jmu_news:\n",
    "    \n",
    "    news_content = jmu_news.read()\n",
    "    \n",
    "    word_list = news_content.split()\n",
    "    \n",
    "    count_result = Counter(word_list)\n",
    "    \n",
    "    for word, count in count_result.most_common(10):\n",
    "    \n",
    "        print(word,count)"
   ]
  },
  {
   "cell_type": "code",
   "execution_count": 14,
   "id": "ae5892e4",
   "metadata": {},
   "outputs": [
    {
     "name": "stdout",
     "output_type": "stream",
     "text": [
      "and 18\n",
      "for 7\n",
      "the 6\n",
      "to 6\n",
      "town 5\n",
      "of 4\n",
      "in 4\n",
      "jmu 3\n",
      "june 3\n",
      "4 3\n"
     ]
    }
   ],
   "source": [
    "with open('jmu_news.txt','r') as jmu_news:\n",
    "    \n",
    "    news_content= jmu_news.read()\n",
    "    \n",
    "    word_list = news_content.split()\n",
    "    \n",
    "    lowr_word_list = [ word.lower() for word in word_list ]\n",
    "    \n",
    "    count_result = Counter(lowr_word_list)\n",
    "   \n",
    "    for word, count in count_result.most_common(10):\n",
    "       \n",
    "        print(word,count)\n",
    "        \n",
    "    "
   ]
  },
  {
   "cell_type": "code",
   "execution_count": 15,
   "id": "54bf1963",
   "metadata": {},
   "outputs": [],
   "source": [
    "import json\n",
    "\n",
    "from pprint import pprint"
   ]
  },
  {
   "cell_type": "code",
   "execution_count": 18,
   "id": "82d998a9",
   "metadata": {},
   "outputs": [
    {
     "name": "stdout",
     "output_type": "stream",
     "text": [
      "{'id': 'http://www.jmu.edu',\n",
      " 'og_object': {'description': 'Welcome to the James Madison University website',\n",
      "               'id': '704684182917256',\n",
      "               'title': 'JMU Homepage',\n",
      "               'type': 'website',\n",
      "               'updated_time': '2018-02-10T03:45:42+0000'},\n",
      " 'share': {'comment_count': 0, 'share_count': 7657}}\n"
     ]
    }
   ],
   "source": [
    "with open ('demo.json','r') as json_file:\n",
    "    \n",
    "    json_content = json.load(json_file)\n",
    "    \n",
    "    pprint(json_content)"
   ]
  },
  {
   "cell_type": "code",
   "execution_count": 19,
   "id": "027978e7",
   "metadata": {},
   "outputs": [
    {
     "ename": "ModuleNotFoundError",
     "evalue": "No module named 'urlib'",
     "output_type": "error",
     "traceback": [
      "\u001b[0;31m---------------------------------------------------------------------------\u001b[0m",
      "\u001b[0;31mModuleNotFoundError\u001b[0m                       Traceback (most recent call last)",
      "\u001b[0;32m<ipython-input-19-d3a89694d357>\u001b[0m in \u001b[0;36m<module>\u001b[0;34m\u001b[0m\n\u001b[0;32m----> 1\u001b[0;31m \u001b[0;32mimport\u001b[0m \u001b[0murlib\u001b[0m\u001b[0;34m.\u001b[0m\u001b[0mrequest\u001b[0m\u001b[0;34m\u001b[0m\u001b[0;34m\u001b[0m\u001b[0m\n\u001b[0m",
      "\u001b[0;31mModuleNotFoundError\u001b[0m: No module named 'urlib'"
     ]
    }
   ],
   "source": [
    "import urlib.request\n"
   ]
  },
  {
   "cell_type": "code",
   "execution_count": null,
   "id": "f08a827a",
   "metadata": {},
   "outputs": [],
   "source": []
  }
 ],
 "metadata": {
  "kernelspec": {
   "display_name": "conda_python3",
   "language": "python",
   "name": "conda_python3"
  },
  "language_info": {
   "codemirror_mode": {
    "name": "ipython",
    "version": 3
   },
   "file_extension": ".py",
   "mimetype": "text/x-python",
   "name": "python",
   "nbconvert_exporter": "python",
   "pygments_lexer": "ipython3",
   "version": "3.6.13"
  }
 },
 "nbformat": 4,
 "nbformat_minor": 5
}
