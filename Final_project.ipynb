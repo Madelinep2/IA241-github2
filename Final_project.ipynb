{
 "cells": [
  {
   "cell_type": "markdown",
   "id": "07f0995e",
   "metadata": {},
   "source": [
    "# Analyzing Covid-19 Data in Spain "
   ]
  },
  {
   "attachments": {
    "Flag-Spain.webp": {
     "image/webp": "[encoded data removed]"
    }
   },
   "cell_type": "markdown",
   "id": "e985da5a",
   "metadata": {},
   "source": [
    "![Flag-Spain.webp](attachment:Flag-Spain.webp)"
   ]
  },
  {
   "cell_type": "markdown",
   "id": "e84433c8",
   "metadata": {},
   "source": [
    "# Author Information \n"
   ]
  },
  {
   "cell_type": "markdown",
   "id": "71d63332",
   "metadata": {},
   "source": [
    "Madeline Psimas \n",
    "\n",
    "IA 241 \n",
    "\n",
    "JMU Intelligence Analyst \n"
   ]
  },
  {
   "cell_type": "markdown",
   "id": "56e68dfe",
   "metadata": {},
   "source": [
    "# Introduction and COVID-19 Background"
   ]
  },
  {
   "cell_type": "markdown",
   "id": "8388f7ff",
   "metadata": {},
   "source": [
    "\n",
    "Coronavirus Disease is an infectious disease caused by the SARS-CoV-2 Virus. This virus can spread from an infected person's mouth or nose in small liquid particles. Most people infected with the virus experience mild to moderate respiratory illness and recover without needing special treatment. Those who are elderly or have underlying medical conditions are more likely to develop serious illness. \n",
    "\n",
    "Cases of Covid-19 started to reach the media and publics eye in early 2020, which caused the whole world to go into lockdown with social distancing and isolation. \n",
    "\n",
    "Source: World Health Organization \n"
   ]
  },
  {
   "cell_type": "markdown",
   "id": "88f377ed",
   "metadata": {},
   "source": [
    "# Data Source "
   ]
  },
  {
   "cell_type": "markdown",
   "id": "d9af91a9",
   "metadata": {},
   "source": [
    "The data is downloaded from [European Centre for Disease Prevention and Control.](https://www.ecdc.europa.eu/en/publications-data/download-todays-data-geographic-distribution-covid-19-cases-worldwide) "
   ]
  },
  {
   "cell_type": "code",
   "execution_count": 1,
   "id": "b380a77e",
   "metadata": {},
   "outputs": [],
   "source": [
    "%matplotlib inline\n",
    "import pandas"
   ]
  },
  {
   "cell_type": "markdown",
   "id": "94e2a806",
   "metadata": {},
   "source": [
    "# A Quick View of the Data"
   ]
  },
  {
   "cell_type": "markdown",
   "id": "0919d1aa",
   "metadata": {},
   "source": [
    "This is a small look into the data collected by the data source (European Centre for Disease Prevention and Control) as it focused it efforts to gather COVID-19 data from countries across the world."
   ]
  },
  {
   "cell_type": "code",
   "execution_count": 6,
   "id": "7e934bc3",
   "metadata": {},
   "outputs": [
    {
     "data": {
      "text/html": [
       "<div>\n",
       "<style scoped>\n",
       "    .dataframe tbody tr th:only-of-type {\n",
       "        vertical-align: middle;\n",
       "    }\n",
       "\n",
       "    .dataframe tbody tr th {\n",
       "        vertical-align: top;\n",
       "    }\n",
       "\n",
       "    .dataframe thead th {\n",
       "        text-align: right;\n",
       "    }\n",
       "</style>\n",
       "<table border=\"1\" class=\"dataframe\">\n",
       "  <thead>\n",
       "    <tr style=\"text-align: right;\">\n",
       "      <th></th>\n",
       "      <th>dateRep</th>\n",
       "      <th>day</th>\n",
       "      <th>month</th>\n",
       "      <th>year</th>\n",
       "      <th>cases</th>\n",
       "      <th>deaths</th>\n",
       "      <th>countriesAndTerritories</th>\n",
       "      <th>geoId</th>\n",
       "      <th>countryterritoryCode</th>\n",
       "      <th>popData2019</th>\n",
       "      <th>continentExp</th>\n",
       "      <th>Cumulative_number_for_14_days_of_COVID-19_cases_per_100000</th>\n",
       "    </tr>\n",
       "  </thead>\n",
       "  <tbody>\n",
       "    <tr>\n",
       "      <th>0</th>\n",
       "      <td>14/12/2020</td>\n",
       "      <td>14</td>\n",
       "      <td>12</td>\n",
       "      <td>2020</td>\n",
       "      <td>746</td>\n",
       "      <td>6</td>\n",
       "      <td>Afghanistan</td>\n",
       "      <td>AF</td>\n",
       "      <td>AFG</td>\n",
       "      <td>38041757.0</td>\n",
       "      <td>Asia</td>\n",
       "      <td>9.013779</td>\n",
       "    </tr>\n",
       "    <tr>\n",
       "      <th>1</th>\n",
       "      <td>13/12/2020</td>\n",
       "      <td>13</td>\n",
       "      <td>12</td>\n",
       "      <td>2020</td>\n",
       "      <td>298</td>\n",
       "      <td>9</td>\n",
       "      <td>Afghanistan</td>\n",
       "      <td>AF</td>\n",
       "      <td>AFG</td>\n",
       "      <td>38041757.0</td>\n",
       "      <td>Asia</td>\n",
       "      <td>7.052776</td>\n",
       "    </tr>\n",
       "    <tr>\n",
       "      <th>2</th>\n",
       "      <td>2020-12-12 00:00:00</td>\n",
       "      <td>12</td>\n",
       "      <td>12</td>\n",
       "      <td>2020</td>\n",
       "      <td>113</td>\n",
       "      <td>11</td>\n",
       "      <td>Afghanistan</td>\n",
       "      <td>AF</td>\n",
       "      <td>AFG</td>\n",
       "      <td>38041757.0</td>\n",
       "      <td>Asia</td>\n",
       "      <td>6.868768</td>\n",
       "    </tr>\n",
       "    <tr>\n",
       "      <th>3</th>\n",
       "      <td>2020-11-12 00:00:00</td>\n",
       "      <td>11</td>\n",
       "      <td>12</td>\n",
       "      <td>2020</td>\n",
       "      <td>63</td>\n",
       "      <td>10</td>\n",
       "      <td>Afghanistan</td>\n",
       "      <td>AF</td>\n",
       "      <td>AFG</td>\n",
       "      <td>38041757.0</td>\n",
       "      <td>Asia</td>\n",
       "      <td>7.134266</td>\n",
       "    </tr>\n",
       "    <tr>\n",
       "      <th>4</th>\n",
       "      <td>2020-10-12 00:00:00</td>\n",
       "      <td>10</td>\n",
       "      <td>12</td>\n",
       "      <td>2020</td>\n",
       "      <td>202</td>\n",
       "      <td>16</td>\n",
       "      <td>Afghanistan</td>\n",
       "      <td>AF</td>\n",
       "      <td>AFG</td>\n",
       "      <td>38041757.0</td>\n",
       "      <td>Asia</td>\n",
       "      <td>6.968658</td>\n",
       "    </tr>\n",
       "    <tr>\n",
       "      <th>5</th>\n",
       "      <td>2020-09-12 00:00:00</td>\n",
       "      <td>9</td>\n",
       "      <td>12</td>\n",
       "      <td>2020</td>\n",
       "      <td>135</td>\n",
       "      <td>13</td>\n",
       "      <td>Afghanistan</td>\n",
       "      <td>AF</td>\n",
       "      <td>AFG</td>\n",
       "      <td>38041757.0</td>\n",
       "      <td>Asia</td>\n",
       "      <td>6.963401</td>\n",
       "    </tr>\n",
       "    <tr>\n",
       "      <th>6</th>\n",
       "      <td>2020-08-12 00:00:00</td>\n",
       "      <td>8</td>\n",
       "      <td>12</td>\n",
       "      <td>2020</td>\n",
       "      <td>200</td>\n",
       "      <td>6</td>\n",
       "      <td>Afghanistan</td>\n",
       "      <td>AF</td>\n",
       "      <td>AFG</td>\n",
       "      <td>38041757.0</td>\n",
       "      <td>Asia</td>\n",
       "      <td>7.094835</td>\n",
       "    </tr>\n",
       "    <tr>\n",
       "      <th>7</th>\n",
       "      <td>2020-07-12 00:00:00</td>\n",
       "      <td>7</td>\n",
       "      <td>12</td>\n",
       "      <td>2020</td>\n",
       "      <td>210</td>\n",
       "      <td>26</td>\n",
       "      <td>Afghanistan</td>\n",
       "      <td>AF</td>\n",
       "      <td>AFG</td>\n",
       "      <td>38041757.0</td>\n",
       "      <td>Asia</td>\n",
       "      <td>7.215755</td>\n",
       "    </tr>\n",
       "    <tr>\n",
       "      <th>8</th>\n",
       "      <td>2020-06-12 00:00:00</td>\n",
       "      <td>6</td>\n",
       "      <td>12</td>\n",
       "      <td>2020</td>\n",
       "      <td>234</td>\n",
       "      <td>10</td>\n",
       "      <td>Afghanistan</td>\n",
       "      <td>AF</td>\n",
       "      <td>AFG</td>\n",
       "      <td>38041757.0</td>\n",
       "      <td>Asia</td>\n",
       "      <td>7.326160</td>\n",
       "    </tr>\n",
       "    <tr>\n",
       "      <th>9</th>\n",
       "      <td>2020-05-12 00:00:00</td>\n",
       "      <td>5</td>\n",
       "      <td>12</td>\n",
       "      <td>2020</td>\n",
       "      <td>235</td>\n",
       "      <td>18</td>\n",
       "      <td>Afghanistan</td>\n",
       "      <td>AF</td>\n",
       "      <td>AFG</td>\n",
       "      <td>38041757.0</td>\n",
       "      <td>Asia</td>\n",
       "      <td>7.115865</td>\n",
       "    </tr>\n",
       "  </tbody>\n",
       "</table>\n",
       "</div>"
      ],
      "text/plain": [
       "               dateRep  day  month  year  cases  deaths  \\\n",
       "0           14/12/2020   14     12  2020    746       6   \n",
       "1           13/12/2020   13     12  2020    298       9   \n",
       "2  2020-12-12 00:00:00   12     12  2020    113      11   \n",
       "3  2020-11-12 00:00:00   11     12  2020     63      10   \n",
       "4  2020-10-12 00:00:00   10     12  2020    202      16   \n",
       "5  2020-09-12 00:00:00    9     12  2020    135      13   \n",
       "6  2020-08-12 00:00:00    8     12  2020    200       6   \n",
       "7  2020-07-12 00:00:00    7     12  2020    210      26   \n",
       "8  2020-06-12 00:00:00    6     12  2020    234      10   \n",
       "9  2020-05-12 00:00:00    5     12  2020    235      18   \n",
       "\n",
       "  countriesAndTerritories geoId countryterritoryCode  popData2019  \\\n",
       "0             Afghanistan    AF                  AFG   38041757.0   \n",
       "1             Afghanistan    AF                  AFG   38041757.0   \n",
       "2             Afghanistan    AF                  AFG   38041757.0   \n",
       "3             Afghanistan    AF                  AFG   38041757.0   \n",
       "4             Afghanistan    AF                  AFG   38041757.0   \n",
       "5             Afghanistan    AF                  AFG   38041757.0   \n",
       "6             Afghanistan    AF                  AFG   38041757.0   \n",
       "7             Afghanistan    AF                  AFG   38041757.0   \n",
       "8             Afghanistan    AF                  AFG   38041757.0   \n",
       "9             Afghanistan    AF                  AFG   38041757.0   \n",
       "\n",
       "  continentExp  Cumulative_number_for_14_days_of_COVID-19_cases_per_100000  \n",
       "0         Asia                                           9.013779           \n",
       "1         Asia                                           7.052776           \n",
       "2         Asia                                           6.868768           \n",
       "3         Asia                                           7.134266           \n",
       "4         Asia                                           6.968658           \n",
       "5         Asia                                           6.963401           \n",
       "6         Asia                                           7.094835           \n",
       "7         Asia                                           7.215755           \n",
       "8         Asia                                           7.326160           \n",
       "9         Asia                                           7.115865           "
      ]
     },
     "execution_count": 6,
     "metadata": {},
     "output_type": "execute_result"
    }
   ],
   "source": [
    "df = pandas.read_excel('s3://ia241-mp/covid_data.xls')\n",
    "df[:10]"
   ]
  },
  {
   "cell_type": "markdown",
   "id": "9741f010",
   "metadata": {},
   "source": [
    "The European Centre for Disease Prevention and Control focused on several different aspects of COVID-19 pandemic including individual countries and territories. The infromation above shows data from 10 days in Afghanistan in December of 2020.  "
   ]
  },
  {
   "cell_type": "markdown",
   "id": "85fc3eee",
   "metadata": {},
   "source": [
    "# Spain's COVID-19 Data"
   ]
  },
  {
   "cell_type": "code",
   "execution_count": 13,
   "id": "3b7dc646",
   "metadata": {},
   "outputs": [
    {
     "data": {
      "text/html": [
       "<div>\n",
       "<style scoped>\n",
       "    .dataframe tbody tr th:only-of-type {\n",
       "        vertical-align: middle;\n",
       "    }\n",
       "\n",
       "    .dataframe tbody tr th {\n",
       "        vertical-align: top;\n",
       "    }\n",
       "\n",
       "    .dataframe thead th {\n",
       "        text-align: right;\n",
       "    }\n",
       "</style>\n",
       "<table border=\"1\" class=\"dataframe\">\n",
       "  <thead>\n",
       "    <tr style=\"text-align: right;\">\n",
       "      <th></th>\n",
       "      <th>dateRep</th>\n",
       "      <th>day</th>\n",
       "      <th>month</th>\n",
       "      <th>year</th>\n",
       "      <th>cases</th>\n",
       "      <th>deaths</th>\n",
       "      <th>countriesAndTerritories</th>\n",
       "      <th>geoId</th>\n",
       "      <th>countryterritoryCode</th>\n",
       "      <th>popData2019</th>\n",
       "      <th>continentExp</th>\n",
       "      <th>Cumulative_number_for_14_days_of_COVID-19_cases_per_100000</th>\n",
       "    </tr>\n",
       "  </thead>\n",
       "  <tbody>\n",
       "    <tr>\n",
       "      <th>52723</th>\n",
       "      <td>13/12/2020</td>\n",
       "      <td>13</td>\n",
       "      <td>12</td>\n",
       "      <td>2020</td>\n",
       "      <td>0</td>\n",
       "      <td>0</td>\n",
       "      <td>Spain</td>\n",
       "      <td>ES</td>\n",
       "      <td>ESP</td>\n",
       "      <td>46937060.0</td>\n",
       "      <td>Europe</td>\n",
       "      <td>218.094188</td>\n",
       "    </tr>\n",
       "    <tr>\n",
       "      <th>52724</th>\n",
       "      <td>2020-12-12 00:00:00</td>\n",
       "      <td>12</td>\n",
       "      <td>12</td>\n",
       "      <td>2020</td>\n",
       "      <td>0</td>\n",
       "      <td>0</td>\n",
       "      <td>Spain</td>\n",
       "      <td>ES</td>\n",
       "      <td>ESP</td>\n",
       "      <td>46937060.0</td>\n",
       "      <td>Europe</td>\n",
       "      <td>218.094188</td>\n",
       "    </tr>\n",
       "    <tr>\n",
       "      <th>52725</th>\n",
       "      <td>2020-11-12 00:00:00</td>\n",
       "      <td>11</td>\n",
       "      <td>12</td>\n",
       "      <td>2020</td>\n",
       "      <td>10519</td>\n",
       "      <td>280</td>\n",
       "      <td>Spain</td>\n",
       "      <td>ES</td>\n",
       "      <td>ESP</td>\n",
       "      <td>46937060.0</td>\n",
       "      <td>Europe</td>\n",
       "      <td>218.094188</td>\n",
       "    </tr>\n",
       "    <tr>\n",
       "      <th>52726</th>\n",
       "      <td>2020-10-12 00:00:00</td>\n",
       "      <td>10</td>\n",
       "      <td>12</td>\n",
       "      <td>2020</td>\n",
       "      <td>7955</td>\n",
       "      <td>325</td>\n",
       "      <td>Spain</td>\n",
       "      <td>ES</td>\n",
       "      <td>ESP</td>\n",
       "      <td>46937060.0</td>\n",
       "      <td>Europe</td>\n",
       "      <td>218.805779</td>\n",
       "    </tr>\n",
       "    <tr>\n",
       "      <th>52727</th>\n",
       "      <td>2020-09-12 00:00:00</td>\n",
       "      <td>9</td>\n",
       "      <td>12</td>\n",
       "      <td>2020</td>\n",
       "      <td>9773</td>\n",
       "      <td>373</td>\n",
       "      <td>Spain</td>\n",
       "      <td>ES</td>\n",
       "      <td>ESP</td>\n",
       "      <td>46937060.0</td>\n",
       "      <td>Europe</td>\n",
       "      <td>228.039421</td>\n",
       "    </tr>\n",
       "    <tr>\n",
       "      <th>52728</th>\n",
       "      <td>2020-08-12 00:00:00</td>\n",
       "      <td>8</td>\n",
       "      <td>12</td>\n",
       "      <td>2020</td>\n",
       "      <td>0</td>\n",
       "      <td>0</td>\n",
       "      <td>Spain</td>\n",
       "      <td>ES</td>\n",
       "      <td>ESP</td>\n",
       "      <td>46937060.0</td>\n",
       "      <td>Europe</td>\n",
       "      <td>228.996021</td>\n",
       "    </tr>\n",
       "    <tr>\n",
       "      <th>52729</th>\n",
       "      <td>2020-07-12 00:00:00</td>\n",
       "      <td>7</td>\n",
       "      <td>12</td>\n",
       "      <td>2020</td>\n",
       "      <td>17681</td>\n",
       "      <td>394</td>\n",
       "      <td>Spain</td>\n",
       "      <td>ES</td>\n",
       "      <td>ESP</td>\n",
       "      <td>46937060.0</td>\n",
       "      <td>Europe</td>\n",
       "      <td>255.047930</td>\n",
       "    </tr>\n",
       "    <tr>\n",
       "      <th>52730</th>\n",
       "      <td>2020-06-12 00:00:00</td>\n",
       "      <td>6</td>\n",
       "      <td>12</td>\n",
       "      <td>2020</td>\n",
       "      <td>0</td>\n",
       "      <td>0</td>\n",
       "      <td>Spain</td>\n",
       "      <td>ES</td>\n",
       "      <td>ESP</td>\n",
       "      <td>46937060.0</td>\n",
       "      <td>Europe</td>\n",
       "      <td>272.528786</td>\n",
       "    </tr>\n",
       "    <tr>\n",
       "      <th>52731</th>\n",
       "      <td>2020-05-12 00:00:00</td>\n",
       "      <td>5</td>\n",
       "      <td>12</td>\n",
       "      <td>2020</td>\n",
       "      <td>0</td>\n",
       "      <td>0</td>\n",
       "      <td>Spain</td>\n",
       "      <td>ES</td>\n",
       "      <td>ESP</td>\n",
       "      <td>46937060.0</td>\n",
       "      <td>Europe</td>\n",
       "      <td>272.528786</td>\n",
       "    </tr>\n",
       "    <tr>\n",
       "      <th>52732</th>\n",
       "      <td>2020-04-12 00:00:00</td>\n",
       "      <td>4</td>\n",
       "      <td>12</td>\n",
       "      <td>2020</td>\n",
       "      <td>8745</td>\n",
       "      <td>214</td>\n",
       "      <td>Spain</td>\n",
       "      <td>ES</td>\n",
       "      <td>ESP</td>\n",
       "      <td>46937060.0</td>\n",
       "      <td>Europe</td>\n",
       "      <td>272.528786</td>\n",
       "    </tr>\n",
       "  </tbody>\n",
       "</table>\n",
       "</div>"
      ],
      "text/plain": [
       "                   dateRep  day  month  year  cases  deaths  \\\n",
       "52723           13/12/2020   13     12  2020      0       0   \n",
       "52724  2020-12-12 00:00:00   12     12  2020      0       0   \n",
       "52725  2020-11-12 00:00:00   11     12  2020  10519     280   \n",
       "52726  2020-10-12 00:00:00   10     12  2020   7955     325   \n",
       "52727  2020-09-12 00:00:00    9     12  2020   9773     373   \n",
       "52728  2020-08-12 00:00:00    8     12  2020      0       0   \n",
       "52729  2020-07-12 00:00:00    7     12  2020  17681     394   \n",
       "52730  2020-06-12 00:00:00    6     12  2020      0       0   \n",
       "52731  2020-05-12 00:00:00    5     12  2020      0       0   \n",
       "52732  2020-04-12 00:00:00    4     12  2020   8745     214   \n",
       "\n",
       "      countriesAndTerritories geoId countryterritoryCode  popData2019  \\\n",
       "52723                   Spain    ES                  ESP   46937060.0   \n",
       "52724                   Spain    ES                  ESP   46937060.0   \n",
       "52725                   Spain    ES                  ESP   46937060.0   \n",
       "52726                   Spain    ES                  ESP   46937060.0   \n",
       "52727                   Spain    ES                  ESP   46937060.0   \n",
       "52728                   Spain    ES                  ESP   46937060.0   \n",
       "52729                   Spain    ES                  ESP   46937060.0   \n",
       "52730                   Spain    ES                  ESP   46937060.0   \n",
       "52731                   Spain    ES                  ESP   46937060.0   \n",
       "52732                   Spain    ES                  ESP   46937060.0   \n",
       "\n",
       "      continentExp  Cumulative_number_for_14_days_of_COVID-19_cases_per_100000  \n",
       "52723       Europe                                         218.094188           \n",
       "52724       Europe                                         218.094188           \n",
       "52725       Europe                                         218.094188           \n",
       "52726       Europe                                         218.805779           \n",
       "52727       Europe                                         228.039421           \n",
       "52728       Europe                                         228.996021           \n",
       "52729       Europe                                         255.047930           \n",
       "52730       Europe                                         272.528786           \n",
       "52731       Europe                                         272.528786           \n",
       "52732       Europe                                         272.528786           "
      ]
     },
     "execution_count": 13,
     "metadata": {},
     "output_type": "execute_result"
    }
   ],
   "source": [
    "Spain_data = df.loc[ df['countriesAndTerritories']=='Spain' ]\n",
    "\n",
    "Spain_data[:10] \n",
    "#Defining data by Country Spain using the top 10 for simplification purposes"
   ]
  },
  {
   "cell_type": "markdown",
   "id": "e9f875b8",
   "metadata": {},
   "source": [
    "# How many covid-19 cases have been confirmed in Spain as of December 2020?"
   ]
  },
  {
   "cell_type": "code",
   "execution_count": 16,
   "id": "4f19a9ab",
   "metadata": {},
   "outputs": [
    {
     "data": {
      "text/plain": [
       "1730575"
      ]
     },
     "execution_count": 16,
     "metadata": {},
     "output_type": "execute_result"
    }
   ],
   "source": [
    "spain_data.sum()['cases']"
   ]
  },
  {
   "cell_type": "code",
   "execution_count": 18,
   "id": "9958011c",
   "metadata": {},
   "outputs": [
    {
     "name": "stdout",
     "output_type": "stream",
     "text": [
      "The number of confirmed covid-19 cases in Spain as of December 2020 is 173,0575\n"
     ]
    }
   ],
   "source": [
    "print('The number of confirmed covid-19 cases in Spain as of December 2020 is 173,0575')"
   ]
  },
  {
   "cell_type": "markdown",
   "id": "ebbbf56a",
   "metadata": {},
   "source": [
    "# What are the Deaths Based on Cases?"
   ]
  },
  {
   "cell_type": "code",
   "execution_count": 19,
   "id": "3b9943c7",
   "metadata": {},
   "outputs": [
    {
     "data": {
      "text/plain": [
       "<AxesSubplot:xlabel='cases', ylabel='deaths'>"
      ]
     },
     "execution_count": 19,
     "metadata": {},
     "output_type": "execute_result"
    },
    {
     "data": {
      "image/png": "[encoded data removed]",
      "text/plain": [
       "<Figure size 432x288 with 1 Axes>"
      ]
     },
     "metadata": {
      "needs_background": "light"
     },
     "output_type": "display_data"
    }
   ],
   "source": [
    "Spain_data.plot.scatter(x='cases', y='deaths')  #Comparing number of deaths and total population using a scatter plot"
   ]
  },
  {
   "cell_type": "markdown",
   "id": "3891e4ce",
   "metadata": {},
   "source": [
    "Based on the data above, the higher the number of cases in Spain, the lower the amount of deaths that occur. The lower the number of cases, the higher number of deaths occur. This is an odd analysis. "
   ]
  },
  {
   "cell_type": "markdown",
   "id": "18867868",
   "metadata": {},
   "source": [
    "# Whcih month had the highest number of covid-19 deaths in Spain in 2020? "
   ]
  },
  {
   "cell_type": "code",
   "execution_count": 20,
   "id": "8dd09248",
   "metadata": {},
   "outputs": [],
   "source": [
    "sum_deaths_per_month = spain_data.groupby('month').sum()['deaths']"
   ]
  },
  {
   "cell_type": "code",
   "execution_count": 21,
   "id": "e2a0df0c",
   "metadata": {},
   "outputs": [
    {
     "data": {
      "text/plain": [
       "<AxesSubplot:xlabel='month'>"
      ]
     },
     "execution_count": 21,
     "metadata": {},
     "output_type": "execute_result"
    },
    {
     "data": {
      "image/png": "[encoded data removed]",
      "text/plain": [
       "<Figure size 432x288 with 1 Axes>"
      ]
     },
     "metadata": {
      "needs_background": "light"
     },
     "output_type": "display_data"
    }
   ],
   "source": [
    "sum_deaths_per_month.plot.bar()"
   ]
  },
  {
   "cell_type": "code",
   "execution_count": 22,
   "id": "e2165007",
   "metadata": {},
   "outputs": [
    {
     "name": "stdout",
     "output_type": "stream",
     "text": [
      "month\n",
      "1         0\n",
      "2         0\n",
      "3      7340\n",
      "4     17203\n",
      "5      2584\n",
      "6      1228\n",
      "7        90\n",
      "8       649\n",
      "9      2697\n",
      "10     4087\n",
      "11     9191\n",
      "12     2555\n",
      "Name: deaths, dtype: int64\n"
     ]
    }
   ],
   "source": [
    "print(sum_deaths_per_month)"
   ]
  },
  {
   "cell_type": "code",
   "execution_count": 23,
   "id": "d1c3e3d6",
   "metadata": {},
   "outputs": [
    {
     "name": "stdout",
     "output_type": "stream",
     "text": [
      "In 2020, Spain had the largest number of confrimed deaths in April.\n"
     ]
    }
   ],
   "source": [
    "print ('In 2020, Spain had the largest number of confrimed deaths in April.')"
   ]
  },
  {
   "cell_type": "markdown",
   "id": "11759b38",
   "metadata": {},
   "source": [
    "# Which month had the most cases in 2020 in Spain? "
   ]
  },
  {
   "cell_type": "code",
   "execution_count": 30,
   "id": "e8f90fce",
   "metadata": {},
   "outputs": [],
   "source": [
    "sum_cases_per_month = spain_data.groupby('month').sum()['cases']"
   ]
  },
  {
   "cell_type": "code",
   "execution_count": 31,
   "id": "42878ab4",
   "metadata": {},
   "outputs": [
    {
     "data": {
      "text/plain": [
       "<AxesSubplot:xlabel='month'>"
      ]
     },
     "execution_count": 31,
     "metadata": {},
     "output_type": "execute_result"
    },
    {
     "data": {
      "image/png": "[encoded data removed]",
      "text/plain": [
       "<Figure size 432x288 with 1 Axes>"
      ]
     },
     "metadata": {
      "needs_background": "light"
     },
     "output_type": "display_data"
    }
   ],
   "source": [
    "sum_cases_per_month.plot.bar()"
   ]
  },
  {
   "cell_type": "markdown",
   "id": "a85fa939",
   "metadata": {},
   "source": [
    "Based on the data above, November of 2020 was the highest number of confirmed cases in Spain. "
   ]
  },
  {
   "cell_type": "markdown",
   "id": "282cf134",
   "metadata": {},
   "source": [
    "# Conclusion"
   ]
  },
  {
   "cell_type": "markdown",
   "id": "c8f276cd",
   "metadata": {},
   "source": [
    "Conclusion\n",
    "To conclude, Spain had its peak number of Covid-19 cases in November of 2020 and had an unsteady (too high) number of cases in October of 2020. It is likely that Spain will remain with an unstable number of cases for the next few months. Also, the number of cases compared to the number of deaths had an interesting comparison. This is most likely due to some skew in the data as well as limited knowledge for healthcare and medicine for Covid-19. My limitations of this project were only learning how to work with Python for one semester, so I am still a beginner. If I had more experience I could have manipulated the data and came to a more educational conclusion. Also, only having data that ended in December of 2020 limits my analysis for this project. Some future suggestions for this project would be to produce more graphs to further analyze the data and try to find more updated information on the Covid-19 pandemic as alot has changed since 2020. "
   ]
  },
  {
   "cell_type": "code",
   "execution_count": null,
   "id": "f0182f5c",
   "metadata": {},
   "outputs": [],
   "source": []
  }
 ],
 "metadata": {
  "kernelspec": {
   "display_name": "conda_python3",
   "language": "python",
   "name": "conda_python3"
  },
  "language_info": {
   "codemirror_mode": {
    "name": "ipython",
    "version": 3
   },
   "file_extension": ".py",
   "mimetype": "text/x-python",
   "name": "python",
   "nbconvert_exporter": "python",
   "pygments_lexer": "ipython3",
   "version": "3.6.13"
  }
 },
 "nbformat": 4,
 "nbformat_minor": 5
}
